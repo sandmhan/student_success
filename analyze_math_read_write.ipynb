{
 "cells": [
  {
   "attachments": {},
   "cell_type": "markdown",
   "metadata": {},
   "source": [
    "Link: https://www.kaggle.com/datasets/spscientist/students-performance-in-exams?resource=download"
   ]
  },
  {
   "cell_type": "code",
   "execution_count": 21,
   "metadata": {},
   "outputs": [
    {
     "data": {
      "text/html": [
       "<div>\n",
       "<style scoped>\n",
       "    .dataframe tbody tr th:only-of-type {\n",
       "        vertical-align: middle;\n",
       "    }\n",
       "\n",
       "    .dataframe tbody tr th {\n",
       "        vertical-align: top;\n",
       "    }\n",
       "\n",
       "    .dataframe thead th {\n",
       "        text-align: right;\n",
       "    }\n",
       "</style>\n",
       "<table border=\"1\" class=\"dataframe\">\n",
       "  <thead>\n",
       "    <tr style=\"text-align: right;\">\n",
       "      <th></th>\n",
       "      <th>gender</th>\n",
       "      <th>race/ethnicity</th>\n",
       "      <th>parental level of education</th>\n",
       "      <th>lunch</th>\n",
       "      <th>test preparation course</th>\n",
       "      <th>math score</th>\n",
       "      <th>reading score</th>\n",
       "      <th>writing score</th>\n",
       "    </tr>\n",
       "  </thead>\n",
       "  <tbody>\n",
       "    <tr>\n",
       "      <th>0</th>\n",
       "      <td>female</td>\n",
       "      <td>group B</td>\n",
       "      <td>bachelor's degree</td>\n",
       "      <td>standard</td>\n",
       "      <td>none</td>\n",
       "      <td>72</td>\n",
       "      <td>72</td>\n",
       "      <td>74</td>\n",
       "    </tr>\n",
       "    <tr>\n",
       "      <th>1</th>\n",
       "      <td>female</td>\n",
       "      <td>group C</td>\n",
       "      <td>some college</td>\n",
       "      <td>standard</td>\n",
       "      <td>completed</td>\n",
       "      <td>69</td>\n",
       "      <td>90</td>\n",
       "      <td>88</td>\n",
       "    </tr>\n",
       "    <tr>\n",
       "      <th>2</th>\n",
       "      <td>female</td>\n",
       "      <td>group B</td>\n",
       "      <td>master's degree</td>\n",
       "      <td>standard</td>\n",
       "      <td>none</td>\n",
       "      <td>90</td>\n",
       "      <td>95</td>\n",
       "      <td>93</td>\n",
       "    </tr>\n",
       "    <tr>\n",
       "      <th>3</th>\n",
       "      <td>male</td>\n",
       "      <td>group A</td>\n",
       "      <td>associate's degree</td>\n",
       "      <td>free/reduced</td>\n",
       "      <td>none</td>\n",
       "      <td>47</td>\n",
       "      <td>57</td>\n",
       "      <td>44</td>\n",
       "    </tr>\n",
       "    <tr>\n",
       "      <th>4</th>\n",
       "      <td>male</td>\n",
       "      <td>group C</td>\n",
       "      <td>some college</td>\n",
       "      <td>standard</td>\n",
       "      <td>none</td>\n",
       "      <td>76</td>\n",
       "      <td>78</td>\n",
       "      <td>75</td>\n",
       "    </tr>\n",
       "  </tbody>\n",
       "</table>\n",
       "</div>"
      ],
      "text/plain": [
       "   gender race/ethnicity parental level of education         lunch  \\\n",
       "0  female        group B           bachelor's degree      standard   \n",
       "1  female        group C                some college      standard   \n",
       "2  female        group B             master's degree      standard   \n",
       "3    male        group A          associate's degree  free/reduced   \n",
       "4    male        group C                some college      standard   \n",
       "\n",
       "  test preparation course  math score  reading score  writing score  \n",
       "0                    none          72             72             74  \n",
       "1               completed          69             90             88  \n",
       "2                    none          90             95             93  \n",
       "3                    none          47             57             44  \n",
       "4                    none          76             78             75  "
      ]
     },
     "execution_count": 21,
     "metadata": {},
     "output_type": "execute_result"
    }
   ],
   "source": [
    "import numpy as np\n",
    "import pandas as pd\n",
    "\n",
    "df = pd.read_csv('DataSets\\stud_perf_math_reading_writing.csv')\n",
    "df.head()"
   ]
  },
  {
   "attachments": {},
   "cell_type": "markdown",
   "metadata": {},
   "source": [
    "turn categorical attributes into numerical attributes\n"
   ]
  },
  {
   "cell_type": "code",
   "execution_count": 22,
   "metadata": {},
   "outputs": [],
   "source": [
    "df = df[[c for c in df if c not in ['math score']] + ['math score']]\n",
    "\n",
    "ord_education = ['some high school', 'high school', 'some college', \"associate's degree\", \"bachelor's degree\", \"master's degree\"]\n",
    "for num, level in enumerate(ord_education):\n",
    "    df.replace(to_replace=level, value=num, inplace=True)\n",
    "\n",
    "feats_to_one_hot_encode = ['gender', 'race/ethnicity', 'lunch', 'test preparation course']\n",
    "df = pd.get_dummies(df, prefix=feats_to_one_hot_encode)\n",
    "\n",
    "feats_to_standardize = ['parental level of education', 'reading score', 'writing score']\n",
    "for feat in feats_to_standardize:\n",
    "    df[feat] = (df[feat] - df[feat].mean()) / df[feat].std()\n",
    "\n",
    "features = df.iloc[:, :df.shape[1] - 1].values\n",
    "labels = df.loc[:, 'math score'].values"
   ]
  },
  {
   "cell_type": "code",
   "execution_count": 23,
   "metadata": {},
   "outputs": [
    {
     "name": "stdout",
     "output_type": "stream",
     "text": [
      "(800, 14)\n",
      "(800,)\n",
      "(200, 14)\n",
      "(200,)\n"
     ]
    }
   ],
   "source": [
    "def generateRandom(data, features, labels):\n",
    "  perm_idx = np.random.permutation(data.shape[0])\n",
    "  vali_num = int(data.shape[0] * 0.2)\n",
    "  vali_idx = perm_idx[:vali_num]\n",
    "  train_idx = perm_idx[vali_num:]\n",
    "  train_features = features[train_idx, :]\n",
    "  train_labels = labels[train_idx]\n",
    "  vali_features = features[vali_idx, :]\n",
    "  vali_labels = labels[vali_idx]\n",
    "  return train_features, train_labels, vali_features, vali_labels\n",
    "\n",
    "train_features, train_labels, vali_features, vali_labels = generateRandom(df, features, labels)\n",
    "print(train_features.shape)\n",
    "print(train_labels.shape)\n",
    "print(vali_features.shape)\n",
    "print(vali_labels.shape)"
   ]
  },
  {
   "cell_type": "code",
   "execution_count": 24,
   "metadata": {},
   "outputs": [
    {
     "name": "stdout",
     "output_type": "stream",
     "text": [
      "K: 5, Accuracy: 0.985\n",
      "K: 6, Accuracy: 0.985\n",
      "K: 7, Accuracy: 0.98\n",
      "K: 8, Accuracy: 0.98\n",
      "K: 9, Accuracy: 0.975\n",
      "K: 10, Accuracy: 0.975\n",
      "K: 11, Accuracy: 0.975\n",
      "K: 12, Accuracy: 0.975\n",
      "K: 13, Accuracy: 0.975\n",
      "K: 14, Accuracy: 0.97\n",
      "K: 15, Accuracy: 0.97\n"
     ]
    }
   ],
   "source": [
    "def KNN(train_features, train_labels, test_features, k=10):\n",
    "    vali_pred = []\n",
    "    for i in range(test_features.shape[0]):\n",
    "        x = test_features[i, :]  \n",
    "        distances = np.sqrt(np.sum((x - train_features) ** 2, axis=1))\n",
    "        topk_idx = np.argpartition(distances, k)[:k]\n",
    "        topk_labels = list(train_labels[topk_idx])\n",
    "        pred = max(topk_labels, key=topk_labels.count)\n",
    "        vali_pred.append(pred)\n",
    "    return np.array(vali_pred)\n",
    "for k_tuner in range(5, 16):\n",
    "    pred = KNN(train_features, train_labels, vali_features, k=k_tuner)\n",
    "\n",
    "    count = 0\n",
    "    margin = 1\n",
    "    for i in range(pred.size):\n",
    "        if vali_labels[i] - margin <= pred[i] and pred[i] <= vali_labels[i] + margin:\n",
    "            count += 1\n",
    "\n",
    "    print(\"K: {}, Accuracy: {}\".format(k_tuner, str(count / vali_features.shape[0])))"
   ]
  }
 ],
 "metadata": {
  "kernelspec": {
   "display_name": "cs484",
   "language": "python",
   "name": "python3"
  },
  "language_info": {
   "codemirror_mode": {
    "name": "ipython",
    "version": 3
   },
   "file_extension": ".py",
   "mimetype": "text/x-python",
   "name": "python",
   "nbconvert_exporter": "python",
   "pygments_lexer": "ipython3",
   "version": "3.10.10"
  },
  "orig_nbformat": 4
 },
 "nbformat": 4,
 "nbformat_minor": 2
}
