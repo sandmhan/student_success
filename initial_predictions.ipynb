{
 "cells": [
  {
   "attachments": {},
   "cell_type": "markdown",
   "metadata": {},
   "source": [
    "# Student Alcohol Consumption\n",
    "Link: https://www.kaggle.com/datasets/uciml/student-alcohol-consumption"
   ]
  },
  {
   "cell_type": "code",
   "execution_count": 15,
   "metadata": {},
   "outputs": [
    {
     "name": "stdout",
     "output_type": "stream",
     "text": [
      "(395, 33)\n",
      "(649, 33)\n"
     ]
    }
   ],
   "source": [
    "import numpy as np\n",
    "import pandas as pd\n",
    "\n",
    "math_df = pd.read_csv('Datasets/Student Alcohol Consumption/student-mat.csv')\n",
    "portuguese_df =  pd.read_csv('Datasets/Student Alcohol Consumption/student-por.csv')\n",
    "print(np.shape(math_df))        # Shape [395, 33] \n",
    "print(np.shape(portuguese_df))  # Shape [649, 33]\n",
    "# Not unreasonable to use KNN for both"
   ]
  },
  {
   "attachments": {},
   "cell_type": "markdown",
   "metadata": {},
   "source": [
    "The main goal here is to predict the student's grades (both math and portuguese) using relevant labels."
   ]
  },
  {
   "attachments": {},
   "cell_type": "markdown",
   "metadata": {},
   "source": [
    "Need to parse the data set so the values can be used (i.e. yes/no should be changed to 1/0)."
   ]
  },
  {
   "cell_type": "code",
   "execution_count": 27,
   "metadata": {},
   "outputs": [
    {
     "name": "stdout",
     "output_type": "stream",
     "text": [
      "school             GP\n",
      "sex                 F\n",
      "age                18\n",
      "address             U\n",
      "famsize           GT3\n",
      "Pstatus             A\n",
      "Medu                4\n",
      "Fedu                4\n",
      "Mjob          at_home\n",
      "Fjob          teacher\n",
      "reason         course\n",
      "guardian       mother\n",
      "traveltime          2\n",
      "studytime           2\n",
      "failures            0\n",
      "schoolsup           1\n",
      "famsup              0\n",
      "paid                0\n",
      "activities          0\n",
      "nursery             1\n",
      "higher              1\n",
      "internet            0\n",
      "romantic            0\n",
      "famrel              4\n",
      "freetime            3\n",
      "goout               4\n",
      "Dalc                1\n",
      "Walc                1\n",
      "health              3\n",
      "absences            6\n",
      "G1                  5\n",
      "G2                  6\n",
      "G3                  6\n",
      "Name: 0, dtype: object\n"
     ]
    }
   ],
   "source": [
    "# Changing yes/no features to 1/0\n",
    "yes_no_cols = [col for col in math_df.columns if set(math_df[col].unique()) == {'yes', 'no'}]\n",
    "for col in yes_no_cols:\n",
    "  math_df[col] = np.where(math_df[col] == 'yes', 1, 0)\n",
    "\n",
    "print(math_df.iloc[0, :])\n"
   ]
  },
  {
   "cell_type": "code",
   "execution_count": 17,
   "metadata": {},
   "outputs": [],
   "source": [
    "perm_idx = np.random.permutation(math_df.shape[0])  # Shuffling entries around\n",
    "# Getting 20% of the data set\n",
    "valid_num = int(math_df.shape[0] * 0.2)\n",
    "valid_idx = perm_idx[:valid_num]\n",
    "train_set_idx = perm_idx[valid_num:]  # indices for the training set\n",
    "\n"
   ]
  }
 ],
 "metadata": {
  "kernelspec": {
   "display_name": "cs484",
   "language": "python",
   "name": "python3"
  },
  "language_info": {
   "codemirror_mode": {
    "name": "ipython",
    "version": 3
   },
   "file_extension": ".py",
   "mimetype": "text/x-python",
   "name": "python",
   "nbconvert_exporter": "python",
   "pygments_lexer": "ipython3",
   "version": "3.10.9"
  },
  "orig_nbformat": 4
 },
 "nbformat": 4,
 "nbformat_minor": 2
}
