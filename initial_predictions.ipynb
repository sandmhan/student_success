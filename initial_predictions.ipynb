{
 "cells": [
  {
   "attachments": {},
   "cell_type": "markdown",
   "metadata": {},
   "source": [
    "# Student Alcohol Consumption\n",
    "Link: https://www.kaggle.com/datasets/uciml/student-alcohol-consumption"
   ]
  },
  {
   "cell_type": "code",
   "execution_count": 14,
   "metadata": {},
   "outputs": [],
   "source": [
    "import numpy as np\n",
    "import pandas as pd\n",
    "\n",
    "# There is two data sets, one for math grades, the other for portuguese\n",
    "math_df = pd.read_csv('Datasets/Student Alcohol Consumption/student-mat.csv')\n",
    "por_df =  pd.read_csv('Datasets/Student Alcohol Consumption/student-por.csv')\n",
    "\n",
    "# print(np.shape(math_df))        # Shape [395, 33]\n",
    "# print(np.shape(portuguese_df))  # Shape [649, 33]"
   ]
  },
  {
   "attachments": {},
   "cell_type": "markdown",
   "metadata": {},
   "source": [
    "The main goal here is to predict the student's grades (both math and portuguese) using relevant features."
   ]
  },
  {
   "attachments": {},
   "cell_type": "markdown",
   "metadata": {},
   "source": [
    "Need to parse the data set so the values can be used (i.e. yes/no should be changed to 1/0)."
   ]
  },
  {
   "cell_type": "code",
   "execution_count": 15,
   "metadata": {},
   "outputs": [],
   "source": [
    "# Changing yes/no features to 1/0\n",
    "yes_no_cols = [col for col in math_df.columns if set(math_df[col].unique()) == {'yes', 'no'}]\n",
    "for col in yes_no_cols:\n",
    "  math_df[col] = np.where(math_df[col] == 'yes', 1, 0)\n",
    "\n",
    "# print(math_df.iloc[0, :])\n",
    "math_features = math_df.iloc[:, :30]\n",
    "math_labels = math_df.iloc[:, 30:33]\n",
    "por_features = por_df.iloc[:, :30]\n",
    "por_labels = por_df.iloc[:, 30:33]"
   ]
  },
  {
   "cell_type": "code",
   "execution_count": 16,
   "metadata": {},
   "outputs": [],
   "source": [
    "# Given a data frame, generate the training/validation set's features and labels\n",
    "def generateRandom(df, features, labels):\n",
    "  perm_idx = np.random.permutation(df.shape[0])  # Shuffling entries around\n",
    "  vali_num = int(df.shape[0] * 0.2)              # Getting 20% of the data set\n",
    "  vali_idx = perm_idx[:vali_num]\n",
    "  train_idx = perm_idx[vali_num:]\n",
    "  train_features = features.iloc[train_idx, :]\n",
    "  train_labels = labels.iloc[train_idx]\n",
    "  vali_features = features.iloc[vali_idx, :]\n",
    "  vali_labels = labels.iloc[vali_idx]\n",
    "  return train_features, train_labels, vali_features, vali_labels\n",
    "\n",
    "math_train_features, math_train_labels, math_vali_features, math_vali_labels = generateRandom(math_df, math_features, math_labels)\n",
    "por_train_features, por_train_labels, por_vali_features, por_vali_labels = generateRandom(por_df, por_features, por_labels)\n",
    "# print(math_train_features.shape)\n",
    "# print(math_vali_features.shape)\n",
    "# print(por_train_features.shape)\n",
    "# print(por_vali_features.shape)"
   ]
  },
  {
   "cell_type": "code",
   "execution_count": 17,
   "metadata": {},
   "outputs": [],
   "source": [
    "# def KNN(train_features, train_labels, test_features, k):\n",
    "    # vali_pred = []\n",
    "    # for i in range(test_features.shape[0]):\n",
    "    #     x = test_features[i, :]\n",
    "    #     distances = np.sqrt(np.sum((x - train_features) ** 2, axis=1))\n",
    "    #     topk_idx = np.argpartition(distances, k)[:k]\n",
    "    #     topk_labels = list(train_labels[topk_idx])\n",
    "    #     pred = max(topk_labels, key=topk_labels.count)\n",
    "    #     vali_pred.append(pred)\n",
    "    # return np.array(vali_pred)\n",
    "    \n",
    "# vali_pred = KNN(math_train_features, math_train_labels, math_vali_features, k=10)"
   ]
  }
 ],
 "metadata": {
  "kernelspec": {
   "display_name": "cs484",
   "language": "python",
   "name": "python3"
  },
  "language_info": {
   "codemirror_mode": {
    "name": "ipython",
    "version": 3
   },
   "file_extension": ".py",
   "mimetype": "text/x-python",
   "name": "python",
   "nbconvert_exporter": "python",
   "pygments_lexer": "ipython3",
   "version": "3.10.9"
  },
  "orig_nbformat": 4
 },
 "nbformat": 4,
 "nbformat_minor": 2
}
