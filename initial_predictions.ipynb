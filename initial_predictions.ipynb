{
 "cells": [
  {
   "attachments": {},
   "cell_type": "markdown",
   "metadata": {},
   "source": [
    "# Student Alcohol Consumption\n",
    "Link: https://www.kaggle.com/datasets/uciml/student-alcohol-consumption"
   ]
  },
  {
   "cell_type": "code",
   "execution_count": 32,
   "metadata": {},
   "outputs": [],
   "source": [
    "import numpy as np\n",
    "import pandas as pd\n",
    "\n",
    "math_df = pd.read_csv('Datasets/Student Alcohol Consumption/student-mat.csv')\n",
    "por_df =  pd.read_csv('Datasets/Student Alcohol Consumption/student-por.csv')\n",
    "\n",
    "# print(np.shape(math_df))        # Shape [395, 33] \n",
    "# print(np.shape(portuguese_df))  # Shape [649, 33]"
   ]
  },
  {
   "attachments": {},
   "cell_type": "markdown",
   "metadata": {},
   "source": [
    "The main goal here is to predict the student's grades (both math and portuguese) using relevant features."
   ]
  },
  {
   "attachments": {},
   "cell_type": "markdown",
   "metadata": {},
   "source": [
    "Need to parse the data set so the values can be used (i.e. yes/no should be changed to 1/0)."
   ]
  },
  {
   "cell_type": "code",
   "execution_count": 33,
   "metadata": {},
   "outputs": [],
   "source": [
    "# Changing yes/no features to 1/0\n",
    "yes_no_cols = [col for col in math_df.columns if set(math_df[col].unique()) == {'yes', 'no'}]\n",
    "for col in yes_no_cols:\n",
    "  math_df[col] = np.where(math_df[col] == 'yes', 1, 0)\n",
    "\n",
    "# print(math_df.iloc[0, :])\n",
    "math_features = math_df.iloc[:, :30]\n",
    "math_labels = math_df.iloc[:, 30:33]\n",
    "por_features = por_df.iloc[:, :30]\n",
    "por_labels = por_df.iloc[:, 30:33]"
   ]
  },
  {
   "cell_type": "code",
   "execution_count": 38,
   "metadata": {},
   "outputs": [
    {
     "name": "stdout",
     "output_type": "stream",
     "text": [
      "(316, 30)\n",
      "(79, 30)\n",
      "(520, 30)\n",
      "(129, 30)\n"
     ]
    }
   ],
   "source": [
    "# Given a data frame, generate the training/validation set's features and labels\n",
    "def generateRandom(df, features, labels):\n",
    "  perm_idx = np.random.permutation(df.shape[0])  # Shuffling entries around\n",
    "  vali_num = int(df.shape[0] * 0.2)              # Getting 20% of the data set\n",
    "  vali_idx = perm_idx[:vali_num]\n",
    "  train_idx = perm_idx[vali_num:]\n",
    "  train_features = features.iloc[train_idx, :]\n",
    "  train_labels = labels.iloc[train_idx]\n",
    "  vali_features = features.iloc[vali_idx, :]\n",
    "  vali_labels = labels.iloc[vali_idx]\n",
    "  return train_features, train_labels, vali_features, vali_labels\n",
    "\n",
    "math_train_features, math_train_labels, math_vali_features, math_vali_labels = generateRandom(math_df, math_features, math_labels)\n",
    "por_train_features, por_train_labels, por_vali_features, por_vali_labels = generateRandom(por_df, por_features, por_labels)\n",
    "# print(math_train_features.shape)\n",
    "# print(math_vali_features.shape)\n",
    "# print(por_train_features.shape)\n",
    "# print(por_vali_features.shape)"
   ]
  }
 ],
 "metadata": {
  "kernelspec": {
   "display_name": "cs484",
   "language": "python",
   "name": "python3"
  },
  "language_info": {
   "codemirror_mode": {
    "name": "ipython",
    "version": 3
   },
   "file_extension": ".py",
   "mimetype": "text/x-python",
   "name": "python",
   "nbconvert_exporter": "python",
   "pygments_lexer": "ipython3",
   "version": "3.10.9"
  },
  "orig_nbformat": 4
 },
 "nbformat": 4,
 "nbformat_minor": 2
}
