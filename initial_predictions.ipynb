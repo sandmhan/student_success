{
 "cells": [
  {
   "attachments": {},
   "cell_type": "markdown",
   "metadata": {},
   "source": [
    "# Student Alcohol Consumption\n",
    "Link: https://www.kaggle.com/datasets/uciml/student-alcohol-consumption"
   ]
  },
  {
   "cell_type": "code",
   "execution_count": 128,
   "metadata": {},
   "outputs": [],
   "source": [
    "import numpy as np\n",
    "import pandas as pd\n",
    "\n",
    "# There is two data sets, one for math grades, the other for portuguese\n",
    "math_df = pd.read_csv('Datasets/Student Alcohol Consumption/student-mat.csv')\n",
    "por_df =  pd.read_csv('Datasets/Student Alcohol Consumption/student-por.csv')\n",
    "\n",
    "# print(np.shape(math_df))        # Shape [395, 33]\n",
    "# print(np.shape(portuguese_df))  # Shape [649, 33]"
   ]
  },
  {
   "attachments": {},
   "cell_type": "markdown",
   "metadata": {},
   "source": [
    "The main goal here is to predict the student's grades (both math and portuguese) using relevant features."
   ]
  },
  {
   "attachments": {},
   "cell_type": "markdown",
   "metadata": {},
   "source": [
    "Need to parse the data set so the values can be used (i.e. yes/no should be changed to 1/0)."
   ]
  },
  {
   "cell_type": "code",
   "execution_count": 134,
   "metadata": {},
   "outputs": [
    {
     "name": "stdout",
     "output_type": "stream",
     "text": [
      "(395, 46)\n",
      "(395, 43)\n",
      "(395, 3)\n"
     ]
    }
   ],
   "source": [
    "# Convert all binary features into 1/0\n",
    "def formatDf(df):\n",
    "  # Identify columns with only two unique values\n",
    "  binary_cols = []\n",
    "  for col in df.columns:\n",
    "    unique_vals = df[col].unique()\n",
    "    if len(unique_vals) == 2:\n",
    "      binary_cols.append(col)\n",
    "\n",
    "  # Convert binary values to 1 and 0\n",
    "  for col in binary_cols:\n",
    "    mapping_dict = {unique_val: int(unique_val == binary_cols[0]) for unique_val in df[col].unique()}\n",
    "    df[col] = df[col].map(mapping_dict)\n",
    "  return df\n",
    "\n",
    "math_df = formatDf(math_df)\n",
    "math_df = pd.get_dummies(math_df)\n",
    "\n",
    "# Moving around the columns for the grade results [G1, G2, G3] to the end of the data frame so it's easier to process.\n",
    "cols = math_df.columns.tolist()\n",
    "cols = cols[:26] + cols[29:] + cols[26:29]\n",
    "math_df = math_df[cols]\n",
    "\n",
    "# print(math_df.iloc[0, :])\n",
    "\n",
    "math_features = math_df.iloc[:, :math_df.shape[1] - 3]\n",
    "math_labels = math_df.iloc[:, math_df.shape[1] - 3:math_df.shape[1]]\n",
    "# print(math_df.shape)\n",
    "# print(math_features.shape)\n",
    "# print(math_labels.shape)"
   ]
  },
  {
   "cell_type": "code",
   "execution_count": 138,
   "metadata": {},
   "outputs": [
    {
     "name": "stdout",
     "output_type": "stream",
     "text": [
      "(316, 43)\n",
      "(79, 43)\n",
      "(316, 3)\n"
     ]
    }
   ],
   "source": [
    "# Given a data frame, generate the training/validation set's features and labels\n",
    "def generateRandom(df, features, labels):\n",
    "  perm_idx = np.random.permutation(df.shape[0])  # Shuffling entries around\n",
    "  vali_num = int(df.shape[0] * 0.2)              # Getting 20% of the data set\n",
    "  vali_idx = perm_idx[:vali_num]\n",
    "  train_idx = perm_idx[vali_num:]\n",
    "  train_features = features.iloc[train_idx, :]\n",
    "  train_labels = labels.iloc[train_idx]\n",
    "  vali_features = features.iloc[vali_idx, :]\n",
    "  vali_labels = labels.iloc[vali_idx]\n",
    "  return train_features, train_labels, vali_features, vali_labels\n",
    "\n",
    "math_train_features, math_train_labels, math_vali_features, math_vali_labels = generateRandom(math_df, math_features, math_labels)\n",
    "print(math_train_features.shape)\n",
    "print(math_vali_features.shape)"
   ]
  },
  {
   "cell_type": "code",
   "execution_count": 131,
   "metadata": {},
   "outputs": [
    {
     "ename": "InvalidIndexError",
     "evalue": "(0, slice(None, None, None))",
     "output_type": "error",
     "traceback": [
      "\u001b[1;31m---------------------------------------------------------------------------\u001b[0m",
      "\u001b[1;31mTypeError\u001b[0m                                 Traceback (most recent call last)",
      "File \u001b[1;32mc:\\Users\\tangk\\miniconda3\\envs\\cs484\\lib\\site-packages\\pandas\\core\\indexes\\base.py:3803\u001b[0m, in \u001b[0;36mIndex.get_loc\u001b[1;34m(self, key, method, tolerance)\u001b[0m\n\u001b[0;32m   3802\u001b[0m \u001b[39mtry\u001b[39;00m:\n\u001b[1;32m-> 3803\u001b[0m     \u001b[39mreturn\u001b[39;00m \u001b[39mself\u001b[39;49m\u001b[39m.\u001b[39;49m_engine\u001b[39m.\u001b[39;49mget_loc(casted_key)\n\u001b[0;32m   3804\u001b[0m \u001b[39mexcept\u001b[39;00m \u001b[39mKeyError\u001b[39;00m \u001b[39mas\u001b[39;00m err:\n",
      "File \u001b[1;32mc:\\Users\\tangk\\miniconda3\\envs\\cs484\\lib\\site-packages\\pandas\\_libs\\index.pyx:138\u001b[0m, in \u001b[0;36mpandas._libs.index.IndexEngine.get_loc\u001b[1;34m()\u001b[0m\n",
      "File \u001b[1;32mc:\\Users\\tangk\\miniconda3\\envs\\cs484\\lib\\site-packages\\pandas\\_libs\\index.pyx:144\u001b[0m, in \u001b[0;36mpandas._libs.index.IndexEngine.get_loc\u001b[1;34m()\u001b[0m\n",
      "\u001b[1;31mTypeError\u001b[0m: '(0, slice(None, None, None))' is an invalid key",
      "\nDuring handling of the above exception, another exception occurred:\n",
      "\u001b[1;31mInvalidIndexError\u001b[0m                         Traceback (most recent call last)",
      "Cell \u001b[1;32mIn[131], line 13\u001b[0m\n\u001b[0;32m      5\u001b[0m         x \u001b[39m=\u001b[39m test_features[i, :]  \n\u001b[0;32m      6\u001b[0m         \u001b[39m# distances = np.sqrt(np.sum((x - train_features) ** 2, axis=1))\u001b[39;00m\n\u001b[0;32m      7\u001b[0m     \u001b[39m#     topk_idx = np.argpartition(distances, k)[:k]\u001b[39;00m\n\u001b[0;32m      8\u001b[0m     \u001b[39m#     topk_labels = list(train_labels[topk_idx])\u001b[39;00m\n\u001b[0;32m      9\u001b[0m     \u001b[39m#     pred = max(topk_labels, key=topk_labels.count)\u001b[39;00m\n\u001b[0;32m     10\u001b[0m     \u001b[39m#     vali_pred.append(pred)\u001b[39;00m\n\u001b[0;32m     11\u001b[0m     \u001b[39m# return np.array(vali_pred)\u001b[39;00m\n\u001b[1;32m---> 13\u001b[0m vali_pred \u001b[39m=\u001b[39m KNN(math_train_features, math_train_labels, math_vali_features, k\u001b[39m=\u001b[39;49m\u001b[39m10\u001b[39;49m)\n",
      "Cell \u001b[1;32mIn[131], line 5\u001b[0m, in \u001b[0;36mKNN\u001b[1;34m(train_features, train_labels, test_features, k)\u001b[0m\n\u001b[0;32m      3\u001b[0m \u001b[39m# for i in range(test_features.shape[0]):\u001b[39;00m\n\u001b[0;32m      4\u001b[0m \u001b[39mfor\u001b[39;00m i \u001b[39min\u001b[39;00m \u001b[39mrange\u001b[39m(\u001b[39m10\u001b[39m):\n\u001b[1;32m----> 5\u001b[0m     x \u001b[39m=\u001b[39m test_features[i, :]\n",
      "File \u001b[1;32mc:\\Users\\tangk\\miniconda3\\envs\\cs484\\lib\\site-packages\\pandas\\core\\frame.py:3805\u001b[0m, in \u001b[0;36mDataFrame.__getitem__\u001b[1;34m(self, key)\u001b[0m\n\u001b[0;32m   3803\u001b[0m \u001b[39mif\u001b[39;00m \u001b[39mself\u001b[39m\u001b[39m.\u001b[39mcolumns\u001b[39m.\u001b[39mnlevels \u001b[39m>\u001b[39m \u001b[39m1\u001b[39m:\n\u001b[0;32m   3804\u001b[0m     \u001b[39mreturn\u001b[39;00m \u001b[39mself\u001b[39m\u001b[39m.\u001b[39m_getitem_multilevel(key)\n\u001b[1;32m-> 3805\u001b[0m indexer \u001b[39m=\u001b[39m \u001b[39mself\u001b[39;49m\u001b[39m.\u001b[39;49mcolumns\u001b[39m.\u001b[39;49mget_loc(key)\n\u001b[0;32m   3806\u001b[0m \u001b[39mif\u001b[39;00m is_integer(indexer):\n\u001b[0;32m   3807\u001b[0m     indexer \u001b[39m=\u001b[39m [indexer]\n",
      "File \u001b[1;32mc:\\Users\\tangk\\miniconda3\\envs\\cs484\\lib\\site-packages\\pandas\\core\\indexes\\base.py:3810\u001b[0m, in \u001b[0;36mIndex.get_loc\u001b[1;34m(self, key, method, tolerance)\u001b[0m\n\u001b[0;32m   3805\u001b[0m         \u001b[39mraise\u001b[39;00m \u001b[39mKeyError\u001b[39;00m(key) \u001b[39mfrom\u001b[39;00m \u001b[39merr\u001b[39;00m\n\u001b[0;32m   3806\u001b[0m     \u001b[39mexcept\u001b[39;00m \u001b[39mTypeError\u001b[39;00m:\n\u001b[0;32m   3807\u001b[0m         \u001b[39m# If we have a listlike key, _check_indexing_error will raise\u001b[39;00m\n\u001b[0;32m   3808\u001b[0m         \u001b[39m#  InvalidIndexError. Otherwise we fall through and re-raise\u001b[39;00m\n\u001b[0;32m   3809\u001b[0m         \u001b[39m#  the TypeError.\u001b[39;00m\n\u001b[1;32m-> 3810\u001b[0m         \u001b[39mself\u001b[39;49m\u001b[39m.\u001b[39;49m_check_indexing_error(key)\n\u001b[0;32m   3811\u001b[0m         \u001b[39mraise\u001b[39;00m\n\u001b[0;32m   3813\u001b[0m \u001b[39m# GH#42269\u001b[39;00m\n",
      "File \u001b[1;32mc:\\Users\\tangk\\miniconda3\\envs\\cs484\\lib\\site-packages\\pandas\\core\\indexes\\base.py:5968\u001b[0m, in \u001b[0;36mIndex._check_indexing_error\u001b[1;34m(self, key)\u001b[0m\n\u001b[0;32m   5964\u001b[0m \u001b[39mdef\u001b[39;00m \u001b[39m_check_indexing_error\u001b[39m(\u001b[39mself\u001b[39m, key):\n\u001b[0;32m   5965\u001b[0m     \u001b[39mif\u001b[39;00m \u001b[39mnot\u001b[39;00m is_scalar(key):\n\u001b[0;32m   5966\u001b[0m         \u001b[39m# if key is not a scalar, directly raise an error (the code below\u001b[39;00m\n\u001b[0;32m   5967\u001b[0m         \u001b[39m# would convert to numpy arrays and raise later any way) - GH29926\u001b[39;00m\n\u001b[1;32m-> 5968\u001b[0m         \u001b[39mraise\u001b[39;00m InvalidIndexError(key)\n",
      "\u001b[1;31mInvalidIndexError\u001b[0m: (0, slice(None, None, None))"
     ]
    }
   ],
   "source": [
    "def KNN(train_features, train_labels, test_features, k=10):\n",
    "    vali_pred = []\n",
    "    # for i in range(test_features.shape[0]):\n",
    "    for i in range(10):\n",
    "        x = test_features[i, :]  \n",
    "        # distances = np.sqrt(np.sum((x - train_features) ** 2, axis=1))\n",
    "    #     topk_idx = np.argpartition(distances, k)[:k]\n",
    "    #     topk_labels = list(train_labels[topk_idx])\n",
    "    #     pred = max(topk_labels, key=topk_labels.count)\n",
    "    #     vali_pred.append(pred)\n",
    "    # return np.array(vali_pred)\n",
    "    \n",
    "vali_pred = KNN(math_train_features, math_train_labels, math_vali_features, k=10)"
   ]
  }
 ],
 "metadata": {
  "kernelspec": {
   "display_name": "cs484",
   "language": "python",
   "name": "python3"
  },
  "language_info": {
   "codemirror_mode": {
    "name": "ipython",
    "version": 3
   },
   "file_extension": ".py",
   "mimetype": "text/x-python",
   "name": "python",
   "nbconvert_exporter": "python",
   "pygments_lexer": "ipython3",
   "version": "3.10.9"
  },
  "orig_nbformat": 4
 },
 "nbformat": 4,
 "nbformat_minor": 2
}
